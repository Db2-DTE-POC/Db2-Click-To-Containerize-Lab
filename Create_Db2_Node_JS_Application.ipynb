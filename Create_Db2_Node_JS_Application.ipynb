{
 "cells": [
  {
   "cell_type": "markdown",
   "metadata": {
    "hide_input": false
   },
   "source": [
    "[![](./media/Db2_header_3.png)](https://www.ibm.com/demos/collection/db2-database/)\n",
    "<a id=\"top\">"
   ]
  },
  {
   "cell_type": "code",
   "execution_count": 10,
   "metadata": {
    "hide_input": true,
    "init_cell": true,
    "run_control": {},
    "scrolled": true
   },
   "outputs": [
    {
     "data": {
      "application/javascript": [
       "\n",
       "// Scan the entire notebook for cells that have refresh tags and execute them\n",
       "\n",
       "window.findCellIndicesByTag = function findCellIndicesByTag(tagName) {\n",
       "  return (Jupyter.notebook.get_cells()\n",
       "    .filter(\n",
       "      ({metadata: {tags}}) => tags && tags.includes(tagName)\n",
       "    )\n",
       "    .map((cell) => Jupyter.notebook.find_cell_index(cell))\n",
       "  );\n",
       "};\n",
       "\n",
       "window.refresh = function runRefreshCells() {\n",
       "    var c = window.findCellIndicesByTag('refresh');\n",
       "    Jupyter.notebook.execute_cells(c);\n",
       "};\n",
       "\n",
       "\n",
       "// Search for a Markdown cell that contains a comment line with the name of the code we are looking for\n",
       "\n",
       "window.copySearch = function copySearch(id) {\n",
       "    var cells = Jupyter.notebook.get_cells();\n",
       "    for(var i in cells) {\n",
       "        var cell = cells[i];\n",
       "        if (cell['cell_type'] == 'markdown') {\n",
       "            var text = cell.get_text();\n",
       "            var n = text.search(\"<!--\"+id+\"-->\");\n",
       "            if (n != -1) {  \n",
       "                var content = text.replace(/(^<!.*-->.*\\n?)|(```.*\\n?)/g, \"\");\n",
       "                navigator.clipboard.writeText(content);  \n",
       "                return\n",
       "                }\n",
       "        }\n",
       "    }\n",
       "    navigator.clipboard.writeText(\"Cell \" + id + \" not found\"); \n",
       "}\n",
       "\n",
       "// Highlight the background of the current cell and copy the contents onto the clipboard\n",
       "\n",
       "window.clipline = function clipline(codeIndex) {\n",
       "    var cell = document.getElementById(codeIndex);\n",
       "    var code = cell.textContent;\n",
       "    var parent = cell.parentNode;\n",
       "    parent.style.backgroundColor = \"lightBlue\"; // backcolor\n",
       "    navigator.clipboard.writeText(code);\n",
       "  \n",
       "    \n",
       "}\n",
       "\n",
       "window.reset = function reset(codeIndex) {\n",
       "    var cell = document.getElementById(codeIndex);\n",
       "    var parent = cell.parentNode;\n",
       "    parent.style.backgroundColor = \"#000000\" // backcolor\n",
       "}\n",
       "window.reset2 = function reset2(codeIndex) {\n",
       "    var cell = document.getElementById(codeIndex);\n",
       "    var parent = cell.parentNode;\n",
       "    parent.style.backgroundColor = \"white\" // backcolor\n",
       "}\n"
      ],
      "text/plain": [
       "<IPython.core.display.Javascript object>"
      ]
     },
     "metadata": {},
     "output_type": "display_data"
    },
    {
     "data": {
      "application/javascript": [
       "window.refresh()"
      ],
      "text/plain": [
       "<IPython.core.display.Javascript object>"
      ]
     },
     "metadata": {},
     "output_type": "display_data"
    }
   ],
   "source": [
    "%run refresh.ipynb"
   ]
  },
  {
   "cell_type": "markdown",
   "metadata": {},
   "source": [
    "# Create Node JS Application on OpenShift Connecting to Db2\n",
    "This lab will take the user through the steps required take an application on GitHub and deploy it on Red Hat OpenShift connecting to Db2.\n",
    "\n",
    "In this hands-on lab you will\n",
    "1. Connect to Red Hat OpenShift\n",
    "2. Install a sample NodeJS application\n",
    "3. Run the application and connect it to Db2, also running on OpenShift\n",
    "4. Explore the impact of the application through the Db2 Console"
   ]
  },
  {
   "cell_type": "markdown",
   "metadata": {
    "hide_input": true
   },
   "source": [
    "## How to Copy Code and Examples\n",
    "Throughout this lab there are code samples that need to be copied and modified in a text editor. Any commands that need to be executed from a command line are found in grey boxes (an example is found below) has been designed to be easily copied."
   ]
  },
  {
   "cell_type": "code",
   "execution_count": 11,
   "metadata": {
    "hide_input": true,
    "tags": [
     "refresh"
    ]
   },
   "outputs": [
    {
     "data": {
      "text/html": [
       "<div style=\"margin-left: 35px; border-style: solid; border-width: 1px; padding: 10px;background-Color:black;\" >\n",
       "<p style=\" color:white ;font-family:courier;background-Color:black\"\n",
       "\"\"<pre id=112 onmousedown=\"window.clipline(112)\" onmouseup=\"window.reset(112)  \">\n",
       "Sample commands are found in cells like this.\n",
       "</pre>\n",
       "</div>\n"
      ],
      "text/plain": [
       "<IPython.core.display.HTML object>"
      ]
     },
     "metadata": {},
     "output_type": "display_data"
    }
   ],
   "source": [
    "%%html\n",
    "<div style=\"margin-left: 35px; border-style: solid; border-width: 1px; padding: 10px;background-Color:black;\" >\n",
    "<p style=\" color:white ;font-family:courier;background-Color:black\"\n",
    "\"\"<pre id=112 onmousedown=\"window.clipline(112)\" onmouseup=\"window.reset(112)  \">\n",
    "Sample commands are found in cells like this.\n",
    "</pre>\n",
    "</div>\n"
   ]
  },
  {
   "cell_type": "markdown",
   "metadata": {
    "hide_input": true
   },
   "source": [
    "The entire contents of the text in the cell will be automatically copied when you click on the cell. The color of the background will change color briefly to indicate that the copy has completed. To paste commands into a terminal window, use the key combination **Control-Shift-v**. \n",
    "\n",
    "It may be easier to keep a terminal window on top of the Jupyter notebook when running these commands. When you have a terminal window displayed, right click on the title bar and select `Always on Top` to keep the screen visible during the duration of the lab.\n"
   ]
  },
  {
   "cell_type": "markdown",
   "metadata": {},
   "source": [
    "## About the Node.js Application you will deploy\n",
    "This application is designed to give you a simple introduction to deploying Node applications on OpenShift that wil work with Db2 using the Db2 Opensource Node.js drivers.\n",
    "\n",
    "These drivers are kept at https://github.com/ibmdb.\n",
    "\n",
    "### The App\n",
    "IBM® Db2 NodeJS Mock Webstore simulates dozens or hundreds of users making online orders separately at the same time, and includes supporting quantities of queries through two connection pools connecting with Db2.\n",
    "\n",
    "This demo is a simple implementation of an application based on Node.js runtime environment, demonstrating how Node.js applications connect to Db2. It includes examples of running both regular SQL statements as well as JSON capabilities."
   ]
  },
  {
   "cell_type": "markdown",
   "metadata": {},
   "source": [
    "This Lab will combine Command Line and Openshift Console Activities to build the Node.js Application.\n",
    "\n",
    "The source for this application is available on GitHub at https://github.com/Db2-DTE-POC/db2-nodejs-web-app."
   ]
  },
  {
   "cell_type": "markdown",
   "metadata": {},
   "source": [
    "### The Virtual Machine Environment\n",
    "There are four virtual machines or nodes in this environment. All are running on Centos 7 virtual machines.\n",
    "* host-1 (10.0.0.1) **RedHat OpenShift with Db2 11.5.4.0 Cartridge**\n",
    "    * Main UserID: db2pot\n",
    "    * password: 123qwe123\n",
    "* server7 (10.0.0.2) **Db2 11.1 on Premises installation**\n",
    "    * Main UserID: db2inst1\n",
    "    * password: db2inst1\n",
    "* host-2 (10.0.0.3) **Db2 Data Management Console 3.1.3 and Db2 11.5 Repository Database**\n",
    "    * Main UserID: db2inst1\n",
    "    * password: db2inst1\n",
    "* host-3 (10.0.0.4) **Jupyter Notebook Environment**\n",
    "    * Main UserID: ibmuser\n",
    "    * password: engageibm\n",
    "  \n",
    "<img src=\"./media/DemonstrationEnvironment.png\">"
   ]
  },
  {
   "cell_type": "markdown",
   "metadata": {},
   "source": [
    "## Passwords for this Lab\n",
    "Here are the key passwords you will need to complete the lab. Each virtual machine environment also include a key icon. Click on the icon to see and copy userids and passwords associated with each virtual machine.\n",
    "### Operating system login & Web App Login\n",
    "        UserID: db2pot\n",
    "        password: 123qwe123\n",
    "\n",
    "### Openshift Login \n",
    "        UserID: admin\n",
    "        password: redhat\n",
    "\n",
    "### Db2 Login\n",
    "        UserID: db2inst1\n",
    "        password: db2inst1"
   ]
  },
  {
   "cell_type": "markdown",
   "metadata": {},
   "source": [
    "## Creating the Node.js environment"
   ]
  },
  {
   "cell_type": "markdown",
   "metadata": {},
   "source": [
    "#### Log into OpenShift from the Command Line\n",
    "1. Make sure you using server7\n",
    "2. If you have not already done so, log in with the **db2inst1** userid and **db2inst1** password\n",
    "3. Double-Click the **Terminal** icon\n",
    "<img src=\"./media/TerminalIcon.png\">\n",
    "4. From the db2inst1@server7 prompt enter"
   ]
  },
  {
   "cell_type": "code",
   "execution_count": 2,
   "metadata": {
    "hide_input": true,
    "tags": [
     "refresh"
    ]
   },
   "outputs": [
    {
     "data": {
      "text/html": [
       "<div style=\"margin-left: 35px; border-style: solid; border-width: 1px; padding: 10px;background-Color:black;\" >\n",
       "<p style=\" color:white ;font-family:courier;background-Color:black\"\n",
       "<pre id=20 onmousedown=\"window.clipline(20)\" onmouseup=\"window.reset(20)\">\n",
       "ssh db2pot@host-1\n"
      ],
      "text/plain": [
       "<IPython.core.display.HTML object>"
      ]
     },
     "metadata": {},
     "output_type": "display_data"
    }
   ],
   "source": [
    "%%html\n",
    "<div style=\"margin-left: 35px; border-style: solid; border-width: 1px; padding: 10px;background-Color:black;\" >\n",
    "<p style=\" color:white ;font-family:courier;background-Color:black\"\n",
    "<pre id=20 onmousedown=\"window.clipline(20)\" onmouseup=\"window.reset(20)\">\n",
    "ssh db2pot@host-1"
   ]
  },
  {
   "cell_type": "markdown",
   "metadata": {},
   "source": [
    "2. Enter the db2pot password **123qwe123**\n",
    "3. Enter **yes** to continue connecting\n",
    "\n",
    "You should now see the **db2pot@host-1** command line prompt\n",
    "\n",
    "4. Log into OpenShift using the OC command"
   ]
  },
  {
   "cell_type": "markdown",
   "metadata": {},
   "source": [
    "### Log into Red Hat OpenShift\n",
    "Now that you have a terminal logged into your OpenShift machine you can log into OpenShift."
   ]
  },
  {
   "cell_type": "code",
   "execution_count": 7,
   "metadata": {
    "hide_input": true,
    "scrolled": true,
    "tags": [
     "refresh"
    ]
   },
   "outputs": [
    {
     "data": {
      "text/html": [
       "<div style=\"margin-left: 35px; border-style: solid; border-width: 1px; padding: 10px;background-Color:black\" >\n",
       "<p style=\" color:white ;font-family:courier;background-Color:black\"\n",
       "<pre id=2 onmousedown=\"window.clipline(2)\" onmouseup=\"window.reset(2)\">\n",
       "oc login -u admin -n db2\n"
      ],
      "text/plain": [
       "<IPython.core.display.HTML object>"
      ]
     },
     "metadata": {},
     "output_type": "display_data"
    }
   ],
   "source": [
    "%%html\n",
    "<div style=\"margin-left: 35px; border-style: solid; border-width: 1px; padding: 10px;background-Color:black\" >\n",
    "<p style=\" color:white ;font-family:courier;background-Color:black\"\n",
    "<pre id=2 onmousedown=\"window.clipline(2)\" onmouseup=\"window.reset(2)\">\n",
    "oc login -u admin -n db2"
   ]
  },
  {
   "cell_type": "markdown",
   "metadata": {
    "hide_input": true
   },
   "source": [
    "### Create a new OpenShift Project\n",
    "Create a project for your new application."
   ]
  },
  {
   "cell_type": "code",
   "execution_count": 14,
   "metadata": {
    "hide_input": true,
    "tags": [
     "refresh"
    ]
   },
   "outputs": [
    {
     "data": {
      "text/html": [
       "<div style=\"margin-left: 35px; border-style: solid; border-width: 1px; padding: 10px;background-Color:black\" >\n",
       "<p style=\" color:white ;font-family:courier;background-Color:black\"\n",
       "<pre id=3 onmousedown=\"window.clipline(3)\" onmouseup=\" window.reset(3)\">\n",
       "oc new-project db2node\n"
      ],
      "text/plain": [
       "<IPython.core.display.HTML object>"
      ]
     },
     "metadata": {},
     "output_type": "display_data"
    }
   ],
   "source": [
    "%%html\n",
    "<div style=\"margin-left: 35px; border-style: solid; border-width: 1px; padding: 10px;background-Color:black\" >\n",
    "<p style=\" color:white ;font-family:courier;background-Color:black\"\n",
    "<pre id=3 onmousedown=\"window.clipline(3)\" onmouseup=\" window.reset(3)\">\n",
    "oc new-project db2node"
   ]
  },
  {
   "cell_type": "markdown",
   "metadata": {},
   "source": [
    "Pull the container for the Node.js application from Docker."
   ]
  },
  {
   "cell_type": "code",
   "execution_count": 8,
   "metadata": {
    "hide_input": true,
    "scrolled": true,
    "tags": [
     "refresh"
    ]
   },
   "outputs": [
    {
     "data": {
      "text/html": [
       "<div style=\"margin-left: 35px; border-style: solid; border-width: 1px; padding: 10px;background-Color:black\" >\n",
       "<p style=\" color:white ;font-family:courier;background-Color:black\"\n",
       "<pre id=4 onmousedown=\"window.clipline(4)\" onmouseup=\"window.reset(4)\">\n",
       "sudo docker pull centos/nodejs-12-centos7\n"
      ],
      "text/plain": [
       "<IPython.core.display.HTML object>"
      ]
     },
     "metadata": {},
     "output_type": "display_data"
    }
   ],
   "source": [
    "%%html\n",
    "<div style=\"margin-left: 35px; border-style: solid; border-width: 1px; padding: 10px;background-Color:black\" >\n",
    "<p style=\" color:white ;font-family:courier;background-Color:black\"\n",
    "<pre id=4 onmousedown=\"window.clipline(4)\" onmouseup=\"window.reset(4)\">\n",
    "sudo docker pull centos/nodejs-12-centos7"
   ]
  },
  {
   "cell_type": "markdown",
   "metadata": {},
   "source": [
    "Deploy the application, which is stored in a github repository\n",
    "https://github.com/Db2-DTE-POC/db2-nodejs-web-app."
   ]
  },
  {
   "cell_type": "code",
   "execution_count": 16,
   "metadata": {
    "hide_input": true,
    "scrolled": false,
    "tags": [
     "refresh"
    ]
   },
   "outputs": [
    {
     "data": {
      "text/html": [
       "<div style=\"margin-left: 35px; border-style: solid; border-width: 1px; padding: 10px;background-Color:black\" >\n",
       "<p style=\" color:white ;font-family:courier;background-Color:black\"\n",
       "<pre id=5 onmousedown=\"window.clipline(5)\" onmouseup=\"window.reset(5)\">\n",
       "oc new-app nodejs~https://github.com/Db2-DTE-POC/db2-nodejs-web-app\n"
      ],
      "text/plain": [
       "<IPython.core.display.HTML object>"
      ]
     },
     "metadata": {},
     "output_type": "display_data"
    }
   ],
   "source": [
    "%%html\n",
    "<div style=\"margin-left: 35px; border-style: solid; border-width: 1px; padding: 10px;background-Color:black\" >\n",
    "<p style=\" color:white ;font-family:courier;background-Color:black\"\n",
    "<pre id=5 onmousedown=\"window.clipline(5)\" onmouseup=\"window.reset(5)\">\n",
    "oc new-app nodejs~https://github.com/Db2-DTE-POC/db2-nodejs-web-app"
   ]
  },
  {
   "cell_type": "markdown",
   "metadata": {},
   "source": [
    "Monitor the application's deployment progress using the following command."
   ]
  },
  {
   "cell_type": "code",
   "execution_count": 17,
   "metadata": {
    "hide_input": true,
    "scrolled": true,
    "tags": [
     "refresh"
    ]
   },
   "outputs": [
    {
     "data": {
      "text/html": [
       "<div style=\"margin-left: 35px; border-style: solid; border-width: 1px; padding: 10px;background-Color:black;\" >\n",
       "<p style=\" color:white ;font-family:courier;background-Color:black\"\n",
       "<pre id=7 onmousedown=\"window.clipline(7)\" onmouseup=\"window.reset(7)\">\n",
       "oc get pods\n"
      ],
      "text/plain": [
       "<IPython.core.display.HTML object>"
      ]
     },
     "metadata": {},
     "output_type": "display_data"
    }
   ],
   "source": [
    "%%html\n",
    "<div style=\"margin-left: 35px; border-style: solid; border-width: 1px; padding: 10px;background-Color:black;\" >\n",
    "<p style=\" color:white ;font-family:courier;background-Color:black\"\n",
    "<pre id=7 onmousedown=\"window.clipline(7)\" onmouseup=\"window.reset(7)\">\n",
    "oc get pods"
   ]
  },
  {
   "cell_type": "code",
   "execution_count": 18,
   "metadata": {
    "hide_input": true,
    "tags": [
     "refresh"
    ]
   },
   "outputs": [
    {
     "data": {
      "text/html": [
       "<div style=\"margin-left: 35px; border-style: solid; border-width: 1px; padding: 10px;background-Color:black;\" >\n",
       "<p style=\" color:white ;font-family:courier;background-Color:black\"\n",
       "<pre id=6.1 onmousedown=\"window.clipline(6.1)\" onmouseup=\"  window.reset(6.1)\">\n",
       "sudo restorecon -Rv /home/db2pot/db2vol1\n"
      ],
      "text/plain": [
       "<IPython.core.display.HTML object>"
      ]
     },
     "metadata": {},
     "output_type": "display_data"
    }
   ],
   "source": [
    "%%html\n",
    "<div style=\"margin-left: 35px; border-style: solid; border-width: 1px; padding: 10px;background-Color:black;\" >\n",
    "<p style=\" color:white ;font-family:courier;background-Color:black\"\n",
    "<pre id=6.1 onmousedown=\"window.clipline(6.1)\" onmouseup=\"  window.reset(6.1)\">\n",
    "sudo restorecon -Rv /home/db2pot/db2vol1"
   ]
  },
  {
   "cell_type": "markdown",
   "metadata": {},
   "source": [
    "## Exposing the Application & Running It!"
   ]
  },
  {
   "cell_type": "markdown",
   "metadata": {
    "hide_input": false
   },
   "source": [
    "We are going to use the Web Console to deploy the rest of the application.\n",
    "\n",
    "Click on here and login as user:`admin` pwd:`redhat` https://localhost:8443/login"
   ]
  },
  {
   "cell_type": "markdown",
   "metadata": {},
   "source": [
    "If you receive a message from the browser regarding the security of the the URL, choose the Advanced option and choose to load the page anyway.\n",
    "Navigate to the \"db2node\" project and click on **Applications -> Deployments** and you will see the following with the corresponding Active and replica Status when your application is ready."
   ]
  },
  {
   "cell_type": "markdown",
   "metadata": {
    "hide_input": false
   },
   "source": [
    "![](./media/nodeconsole1.png)\n",
    "<a id=\"top\">"
   ]
  },
  {
   "cell_type": "markdown",
   "metadata": {},
   "source": [
    "Then choose **Applications->Services** and you will see the related service. Click on the service and it will open up a screen as below:"
   ]
  },
  {
   "cell_type": "markdown",
   "metadata": {
    "hide_input": false
   },
   "source": [
    "![](./media/nodeconsole2.png)\n",
    "<a id=\"top\">"
   ]
  },
  {
   "cell_type": "markdown",
   "metadata": {
    "hide_input": true
   },
   "source": [
    "### The Service\n",
    "Now you will see there is no route to connect to the application on, so to create an Application URL we will choose to create a route by clicking on the **\"Create route\"** text. "
   ]
  },
  {
   "cell_type": "markdown",
   "metadata": {
    "hide_input": true
   },
   "source": [
    "![](./media/nodeconsole2.png)\n",
    "<a id=\"top\">"
   ]
  },
  {
   "cell_type": "markdown",
   "metadata": {},
   "source": [
    "### Create Web URL by Creating a Route\n",
    "In the Create Route Panel, simply accept the defaults and click the **\"Create\" button** at the bottom of the screen."
   ]
  },
  {
   "cell_type": "code",
   "execution_count": null,
   "metadata": {
    "hide_input": true
   },
   "outputs": [],
   "source": []
  },
  {
   "cell_type": "markdown",
   "metadata": {
    "hide_input": false,
    "scrolled": true,
    "tags": [
     "refresh"
    ]
   },
   "source": [
    "![Service screen](./media/nodeconsole3.png)\n",
    "<a id=\"top\">"
   ]
  },
  {
   "cell_type": "markdown",
   "metadata": {},
   "source": [
    "### Now you can see the new created URL for the service."
   ]
  },
  {
   "cell_type": "markdown",
   "metadata": {
    "hide_input": true
   },
   "source": [
    "![](./media/nodeconsole4.png)\n",
    "<a id=\"top\">"
   ]
  },
  {
   "cell_type": "markdown",
   "metadata": {},
   "source": [
    "Now click on the provided hostname for your new route and you will see the screen below.\n",
    "\n",
    "Login using the `db2pot/123qwe123` username/password."
   ]
  },
  {
   "cell_type": "markdown",
   "metadata": {
    "hide_input": true
   },
   "source": [
    "![](./media/nodeconsole5.png)\n",
    "<a id=\"top\">"
   ]
  },
  {
   "cell_type": "markdown",
   "metadata": {},
   "source": [
    "Now we open up the Panel for our web monitoring application simulator. We want to connect to to Db2 we deployed earlier, it can be either the part 1 or 2 database deployment. Using what you learned about identifying the Db2 service to connect to, either via the console or the command line. This time we are going to use the OpenShift internal network connections, not the external IP or Port as we are communicating with Db2 from within the cluster.\n",
    "\n",
    "This will mean we will choose the Db2 service NodePort Cluster-IP and Port Number to connect to it. Use these in combination with the username/password `db2inst1/db2inst1` to test the connection."
   ]
  },
  {
   "cell_type": "markdown",
   "metadata": {},
   "source": [
    "```python\n",
    "NAME                 TYPE        CLUSTER-IP       EXTERNAL-IP   PORT(S)                                   AGE\n",
    "db2u-db2u            ClusterIP   172.30.96.174    <none>        50000/TCP,50001/TCP,25000/TCP,25001/TCP,…  2m\n",
    "db2u-db2u-engn-svc   NodePort    172.30.169.115   <none>        50000:31020/TCP,50001:31578/TCP            2m\n",
    "db2u-db2u-internal   ClusterIP   None             <none>        50000/TCP,9443/TCP                         2m\n",
    "db2u-db2u-ldap       NodePort    172.30.122.233   <none>        389:30154/TCP                              2m\n",
    "db2u-etcd            ClusterIP   None             <none>        2380/TCP,2379/TCP                          2m\n",
    "```"
   ]
  },
  {
   "cell_type": "markdown",
   "metadata": {},
   "source": [
    "In the above example for the Application to connect to the `db2u-db2u-eng-svc` service we would select the `172.30.169.115` address and the `50000` port number. Use the console or the command line to choose identify yours (\"oc project db2\" -> \"oc get svc\")."
   ]
  },
  {
   "cell_type": "markdown",
   "metadata": {
    "hide_input": true
   },
   "source": [
    "!['Db2 Node Js Application Web Console'](./media/nodeconsole7.png)\n",
    "<a id=\"top\">"
   ]
  },
  {
   "cell_type": "markdown",
   "metadata": {},
   "source": [
    "### Once you have tested the connection set the application simulation parameters and start the application."
   ]
  },
  {
   "cell_type": "markdown",
   "metadata": {},
   "source": [
    "### We hope you have enjoyed this lab, to view more labs in this collection click on the footer bar below !"
   ]
  },
  {
   "cell_type": "markdown",
   "metadata": {
    "hide_input": false
   },
   "source": [
    "[![](./media/db2_dte_footer.png)](https://www.ibm.com/demos/collection/db2-database/)\n",
    "<a id=\"top\">"
   ]
  },
  {
   "cell_type": "markdown",
   "metadata": {},
   "source": [
    "#### Credits: IBM 2020, Phil Downey [phil.downey1@ibm.com]"
   ]
  }
 ],
 "metadata": {
  "kernelspec": {
   "display_name": "Python 3",
   "language": "python",
   "name": "python3"
  },
  "language_info": {
   "codemirror_mode": {
    "name": "ipython",
    "version": 3
   },
   "file_extension": ".py",
   "mimetype": "text/x-python",
   "name": "python",
   "nbconvert_exporter": "python",
   "pygments_lexer": "ipython3",
   "version": "3.8.3"
  }
 },
 "nbformat": 4,
 "nbformat_minor": 2
}
