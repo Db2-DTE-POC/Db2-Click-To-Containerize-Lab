{
 "cells": [
  {
   "cell_type": "markdown",
   "metadata": {
    "hide_input": false
   },
   "source": [
    "[![](./media/Db2_header_3.png)](https://www.ibm.com/demos/collection/db2-database/)\n",
    "<a id=\"top\">"
   ]
  },
  {
   "cell_type": "code",
   "execution_count": null,
   "metadata": {
    "hide_input": true,
    "init_cell": true,
    "run_control": {},
    "scrolled": true
   },
   "outputs": [],
   "source": [
    "%run refresh.ipynb"
   ]
  },
  {
   "cell_type": "markdown",
   "metadata": {},
   "source": [
    "# Containerizing Db2\n",
    "\n",
    "This lab takes you through the steps move a Db2 Database from an on premises installation to a containerized Db2 Database running on RedHat OpenShift.\n",
    "\n",
    "https://www.ibm.com/cloud/blog/how-to-build-a-db2-for-openshift-environment-for-your-desktop"
   ]
  },
  {
   "cell_type": "markdown",
   "metadata": {},
   "source": [
    "### Set up this Jupyter notebook\n",
    "Run the next cell to setup the notebook. Click the next cell and then click **Run** from the menu bar above."
   ]
  },
  {
   "cell_type": "code",
   "execution_count": 1,
   "metadata": {},
   "outputs": [
    {
     "data": {
      "application/javascript": [
       "\n",
       "// Scan the entire notebook for cells that have refresh tags and execute them\n",
       "\n",
       "window.findCellIndicesByTag = function findCellIndicesByTag(tagName) {\n",
       "  return (Jupyter.notebook.get_cells()\n",
       "    .filter(\n",
       "      ({metadata: {tags}}) => tags && tags.includes(tagName)\n",
       "    )\n",
       "    .map((cell) => Jupyter.notebook.find_cell_index(cell))\n",
       "  );\n",
       "};\n",
       "\n",
       "window.refresh = function runRefreshCells() {\n",
       "    var c = window.findCellIndicesByTag('refresh');\n",
       "    Jupyter.notebook.execute_cells(c);\n",
       "};\n",
       "\n",
       "\n",
       "// Search for a Markdown cell that contains a comment line with the name of the code we are looking for\n",
       "\n",
       "window.copySearch = function copySearch(id) {\n",
       "    var cells = Jupyter.notebook.get_cells();\n",
       "    for(var i in cells) {\n",
       "        var cell = cells[i];\n",
       "        if (cell['cell_type'] == 'markdown') {\n",
       "            var text = cell.get_text();\n",
       "            var n = text.search(\"<!--\"+id+\"-->\");\n",
       "            if (n != -1) {  \n",
       "                var content = text.replace(/(^<!.*-->.*\\n?)|(```.*\\n?)/g, \"\");\n",
       "                navigator.clipboard.writeText(content);  \n",
       "                return\n",
       "                }\n",
       "        }\n",
       "    }\n",
       "    navigator.clipboard.writeText(\"Cell \" + id + \" not found\"); \n",
       "}\n",
       "\n",
       "// Highlight the background of the current cell and copy the contents onto the clipboard\n",
       "\n",
       "window.clipline = function clipline(codeIndex) {\n",
       "    var cell = document.getElementById(codeIndex);\n",
       "    var code = cell.textContent;\n",
       "    var parent = cell.parentNode;\n",
       "    parent.style.backgroundColor = \"lightBlue\"; // backcolor\n",
       "    navigator.clipboard.writeText(code);\n",
       "  \n",
       "    \n",
       "}\n",
       "\n",
       "window.reset = function reset(codeIndex) {\n",
       "    var cell = document.getElementById(codeIndex);\n",
       "    var parent = cell.parentNode;\n",
       "    parent.style.backgroundColor = \"#000000\" // backcolor\n",
       "}\n",
       "window.reset2 = function reset2(codeIndex) {\n",
       "    var cell = document.getElementById(codeIndex);\n",
       "    var parent = cell.parentNode;\n",
       "    parent.style.backgroundColor = \"white\" // backcolor\n",
       "}\n"
      ],
      "text/plain": [
       "<IPython.core.display.Javascript object>"
      ]
     },
     "metadata": {},
     "output_type": "display_data"
    },
    {
     "data": {
      "application/javascript": [
       "window.refresh()"
      ],
      "text/plain": [
       "<IPython.core.display.Javascript object>"
      ]
     },
     "metadata": {},
     "output_type": "display_data"
    }
   ],
   "source": [
    "%run refresh.ipynb"
   ]
  },
  {
   "cell_type": "markdown",
   "metadata": {},
   "source": [
    "It may be easier to keep a terminal window on top of the Jupyter notebook when running these commands. When you have a terminal window displayed, **right click on the title bar** and select **Always on Top** to keep the screen visible during the duration of the lab."
   ]
  },
  {
   "cell_type": "markdown",
   "metadata": {
    "hide_input": true
   },
   "source": [
    "### How to Copy Code and Examples\n",
    "Throughout this lab there are code samples that need to be copied and modified in a text editor. Any commands that need to be executed from a command line are found in grey boxes (an example is found below) has been designed to be easily copied."
   ]
  },
  {
   "cell_type": "code",
   "execution_count": 2,
   "metadata": {
    "hide_input": true,
    "tags": [
     "refresh"
    ]
   },
   "outputs": [
    {
     "data": {
      "text/html": [
       "<div style=\"margin-left: 35px; border-style: solid; border-width: 1px; padding: 10px;background-Color:black;\" >\n",
       "<p style=\" color:white ;font-family:courier;background-Color:black\"\n",
       "\"\"<pre id=112 onmousedown=\"window.clipline(112)\" onmouseup=\"window.reset(112)  \">\n",
       "Sample commands are found in cells like this.\n",
       "</pre>\n",
       "</div>\n"
      ],
      "text/plain": [
       "<IPython.core.display.HTML object>"
      ]
     },
     "metadata": {},
     "output_type": "display_data"
    }
   ],
   "source": [
    "%%html\n",
    "<div style=\"margin-left: 35px; border-style: solid; border-width: 1px; padding: 10px;background-Color:black;\" >\n",
    "<p style=\" color:white ;font-family:courier;background-Color:black\"\n",
    "\"\"<pre id=112 onmousedown=\"window.clipline(112)\" onmouseup=\"window.reset(112)  \">\n",
    "Sample commands are found in cells like this.\n",
    "</pre>\n",
    "</div>\n"
   ]
  },
  {
   "cell_type": "markdown",
   "metadata": {
    "hide_input": true
   },
   "source": [
    "The entire contents of the text in the cell will be automatically copied when you click on the cell. The color of the background will change color briefly to indicate that the copy has completed. To paste commands into a terminal window, use the key combination **Control-Shift-v**. \n"
   ]
  },
  {
   "cell_type": "markdown",
   "metadata": {},
   "source": [
    "### Background to our Deployment Environment"
   ]
  },
  {
   "cell_type": "markdown",
   "metadata": {},
   "source": [
    "The Deployment environment is a CentOS 7.7 Operating system with Openshift 3.11 Single node Install and Helm 2.16 deployed with an installation of Tiller.\n",
    "\n",
    "If you are interested in deploying such an environment yourself for your own use you can find the instructions at: \n",
    "    "
   ]
  },
  {
   "cell_type": "code",
   "execution_count": 3,
   "metadata": {
    "hide_input": true,
    "scrolled": true,
    "tags": [
     "refresh"
    ]
   },
   "outputs": [
    {
     "data": {
      "text/html": [
       "<div style=\"margin-left: 35px; border-style: solid; border-width: 1px; padding: 10px;background-Color:black;\" >\n",
       "<p style=\" color:white ;font-family:courier;background-Color:black\"\n",
       "<pre id=1 onmousedown=\"window.clipline(1)\" onmouseup=\"window.reset(1)\">\n",
       "https://www.ibm.com/cloud/blog/how-to-build-a-db2-for-openshift-environment-for-your-desktop\n"
      ],
      "text/plain": [
       "<IPython.core.display.HTML object>"
      ]
     },
     "metadata": {},
     "output_type": "display_data"
    }
   ],
   "source": [
    "%%html\n",
    "<div style=\"margin-left: 35px; border-style: solid; border-width: 1px; padding: 10px;background-Color:black;\" >\n",
    "<p style=\" color:white ;font-family:courier;background-Color:black\"\n",
    "<pre id=1 onmousedown=\"window.clipline(1)\" onmouseup=\"window.reset(1)\">\n",
    "https://www.ibm.com/cloud/blog/how-to-build-a-db2-for-openshift-environment-for-your-desktop"
   ]
  },
  {
   "cell_type": "markdown",
   "metadata": {},
   "source": [
    "### Db2 Click to Containerize Introduction Video\n",
    "Take a few minutes to watch this overview video. It includes a high level story of the benefits of containerization as well as the basics of how Click to Containerize works."
   ]
  },
  {
   "cell_type": "code",
   "execution_count": 4,
   "metadata": {
    "hide_input": true,
    "scrolled": false,
    "tags": [
     "refresh"
    ]
   },
   "outputs": [
    {
     "data": {
      "text/html": [
       "<iframe width=\"560\" height=\"315\" src=\"https://www.youtube.com/embed/czfmfZNb8Gg\" frameborder=\"0\" allow=\"accelerometer; autoplay; clipboard-write; encrypted-media; gyroscope; picture-in-picture\" allowfullscreen></iframe>\n"
      ],
      "text/plain": [
       "<IPython.core.display.HTML object>"
      ]
     },
     "metadata": {},
     "output_type": "display_data"
    }
   ],
   "source": [
    "%%html \n",
    "<iframe width=\"560\" height=\"315\" src=\"https://www.youtube.com/embed/czfmfZNb8Gg\" frameborder=\"0\" allow=\"accelerometer; autoplay; clipboard-write; encrypted-media; gyroscope; picture-in-picture\" allowfullscreen></iframe>"
   ]
  },
  {
   "cell_type": "markdown",
   "metadata": {
    "hide_input": true
   },
   "source": [
    "## Use the Slider to browse through the background on DB2u and Openshift"
   ]
  },
  {
   "cell_type": "code",
   "execution_count": 5,
   "metadata": {
    "hide_input": true,
    "scrolled": true,
    "tags": [
     "refresh"
    ]
   },
   "outputs": [
    {
     "data": {
      "application/vnd.jupyter.widget-view+json": {
       "model_id": "7a2907871e364a3c83a1e230a8e47c9c",
       "version_major": 2,
       "version_minor": 0
      },
      "text/plain": [
       "interactive(children=(IntSlider(value=1, description='Slides', layout=Layout(height='80px', width='80%'), max=…"
      ]
     },
     "metadata": {},
     "output_type": "display_data"
    }
   ],
   "source": [
    "import ipywidgets as wg\n",
    "from IPython.display import Image\n",
    "from ipywidgets import HBox\n",
    "def f(Slides):\n",
    "        return Image(filename='./media/db2u/Slide'+str(Slides)+'.png', width=1400)\n",
    "\n",
    "wg.interact(f, Slides=wg.IntSlider(min=1,max=31,step=1,layout=dict(width='80%',height='80px'),orientation='horizontal'))\n",
    "display()"
   ]
  },
  {
   "cell_type": "markdown",
   "metadata": {
    "hide_input": true
   },
   "source": [
    "### Exploring the Db2 Click to Containerize Playground Environment"
   ]
  },
  {
   "cell_type": "markdown",
   "metadata": {},
   "source": [
    "The next steps walk you through the preconfigured Db2 Click to Containerize Environment. "
   ]
  },
  {
   "cell_type": "markdown",
   "metadata": {},
   "source": [
    "There are four virtual machines or nodes in this environment. All are running on Centos 7 virtual machines.\n",
    "* host-1 (10.0.0.1) **RedHat OpenShift with Db2 11.5.4.0 Cartridge**\n",
    "    * Main UserID: db2pot\n",
    "    * password: 123qwe123\n",
    "* server7 (10.0.0.2) **Db2 11.1 on Premises installation**\n",
    "    * Main UserID: db2inst1\n",
    "    * password: db2inst1\n",
    "* host-2 (10.0.0.3) **Db2 Data Management Console 3.1.3 and Db2 11.5 Repository Database**\n",
    "    * Main UserID: db2inst1\n",
    "    * password: db2inst1\n",
    "* host-3 (10.0.0.4) **Jupyter Notebook Environment**\n",
    "    * Main UserID: ibmuser\n",
    "    * password: engageibm\n",
    "  \n",
    "<img src=\"./media/DemonstrationEnvironment.png\">"
   ]
  },
  {
   "cell_type": "markdown",
   "metadata": {},
   "source": [
    "#### Working with the Virtual Machines in the Demonstration Cluster\n",
    "To switch between machines click on the machine you want to work with and log in using the provided user id. "
   ]
  },
  {
   "cell_type": "code",
   "execution_count": 1,
   "metadata": {
    "hide_input": true
   },
   "outputs": [
    {
     "data": {
      "application/vnd.jupyter.widget-view+json": {
       "model_id": "027559de74fb49059e8ecdfba672958e",
       "version_major": 2,
       "version_minor": 0
      },
      "text/plain": [
       "Button(button_style='primary', description='Command Line', style=ButtonStyle())"
      ]
     },
     "metadata": {},
     "output_type": "display_data"
    },
    {
     "data": {
      "application/vnd.jupyter.widget-view+json": {
       "model_id": "dcd8031a8d194a978a6db6d2c85163a7",
       "version_major": 2,
       "version_minor": 0
      },
      "text/plain": [
       "Output()"
      ]
     },
     "metadata": {},
     "output_type": "display_data"
    }
   ],
   "source": [
    "import ipywidgets as widgets\n",
    "from IPython.display import display\n",
    "button = widgets.Button(description=\"Command Line\",button_style='primary')\n",
    "output = widgets.Output()\n",
    "display(button, output)\n",
    "def on_button_clicked(b):\n",
    "        ! gnome-terminal --window-with-profile=db2pot --working-directory=/home/db2pot\n",
    "button.on_click(on_button_clicked)"
   ]
  },
  {
   "cell_type": "markdown",
   "metadata": {
    "hide_input": true
   },
   "source": [
    "### Explore Db2 Cartridge running on RedHat OpenShift\n",
    "The Db2 Cartridge is Db2 running ina container. The following steps walk through how to explore the pre-configured RedHat OpenShift environment that includes two Db2 Cartridges actively running. You can work with OpenShift either through the command line or the OpenShift Web Console."
   ]
  },
  {
   "cell_type": "markdown",
   "metadata": {},
   "source": [
    "#### Log into OpenShift from the Command Line\n",
    "1. Make sure you using server7\n",
    "2. If you have not already done so, log in with the **db2inst1** userid and **db2inst1** password\n",
    "3. Double-Click the **Terminal** icon\n",
    "<img src=\"./media/TerminalIcon.png\">\n",
    "4. From the db2inst1@server7 prompt enter"
   ]
  },
  {
   "cell_type": "code",
   "execution_count": 6,
   "metadata": {
    "hide_input": true,
    "scrolled": false,
    "tags": [
     "refresh"
    ]
   },
   "outputs": [
    {
     "data": {
      "text/html": [
       "<div style=\"margin-left: 35px; border-style: solid; border-width: 1px; padding: 10px;background-Color:black;\" >\n",
       "<p style=\" color:white ;font-family:courier;background-Color:black\"\n",
       "<pre id=2 onmousedown=\"window.clipline(2)\" onmouseup=\"window.reset(2)\">\n",
       "oc login host-1:8443 -u admin -n db2\n"
      ],
      "text/plain": [
       "<IPython.core.display.HTML object>"
      ]
     },
     "metadata": {},
     "output_type": "display_data"
    }
   ],
   "source": [
    "%%html\n",
    "<div style=\"margin-left: 35px; border-style: solid; border-width: 1px; padding: 10px;background-Color:black;\" >\n",
    "<p style=\" color:white ;font-family:courier;background-Color:black\"\n",
    "<pre id=2 onmousedown=\"window.clipline(2)\" onmouseup=\"window.reset(2)\">\n",
    "oc login host-1:8443 -u admin -n db2"
   ]
  },
  {
   "cell_type": "markdown",
   "metadata": {},
   "source": [
    "Enter the following password to log in to OpenShift using the OC command line processor running on Server7."
   ]
  },
  {
   "cell_type": "code",
   "execution_count": 7,
   "metadata": {
    "hide_input": true,
    "scrolled": false,
    "tags": [
     "refresh"
    ]
   },
   "outputs": [
    {
     "data": {
      "text/html": [
       "<div style=\"margin-left: 35px; border-style: solid; border-width: 1px; padding: 10px;background-Color:black;\" >\n",
       "<p style=\" color:white ;font-family:courier;background-Color:black\"\n",
       "<pre id=3 onmousedown=\"window.clipline(3)\" onmouseup=\"window.reset(3)\">\n",
       "ocadmin\n"
      ],
      "text/plain": [
       "<IPython.core.display.HTML object>"
      ]
     },
     "metadata": {},
     "output_type": "display_data"
    }
   ],
   "source": [
    "%%html\n",
    "<div style=\"margin-left: 35px; border-style: solid; border-width: 1px; padding: 10px;background-Color:black;\" >\n",
    "<p style=\" color:white ;font-family:courier;background-Color:black\"\n",
    "<pre id=3 onmousedown=\"window.clipline(3)\" onmouseup=\"window.reset(3)\">\n",
    "ocadmin"
   ]
  },
  {
   "cell_type": "markdown",
   "metadata": {},
   "source": [
    "OC needs to be installed on the same machine as the source database you plan to containerize. It is a pre-requiset for the C2C tool. The -u parameter defines the user to log in with, the -n parameter defines the project to use. "
   ]
  },
  {
   "cell_type": "markdown",
   "metadata": {},
   "source": [
    "#### Review the Status of the Db2 Cartridges running on OpenShift"
   ]
  },
  {
   "cell_type": "code",
   "execution_count": 8,
   "metadata": {
    "hide_input": true,
    "scrolled": false,
    "tags": [
     "refresh"
    ]
   },
   "outputs": [
    {
     "data": {
      "text/html": [
       "<div style=\"margin-left: 35px; border-style: solid; border-width: 1px; padding: 10px;background-Color:black;\" >\n",
       "<p style=\" color:white ;font-family:courier;background-Color:black\"\n",
       "<pre id=4 onmousedown=\"window.clipline(4)\" onmouseup=\"window.reset(4)\">\n",
       "oc get pods\n"
      ],
      "text/plain": [
       "<IPython.core.display.HTML object>"
      ]
     },
     "metadata": {},
     "output_type": "display_data"
    }
   ],
   "source": [
    "%%html\n",
    "<div style=\"margin-left: 35px; border-style: solid; border-width: 1px; padding: 10px;background-Color:black;\" >\n",
    "<p style=\" color:white ;font-family:courier;background-Color:black\"\n",
    "<pre id=4 onmousedown=\"window.clipline(4)\" onmouseup=\"window.reset(4)\">\n",
    "oc get pods"
   ]
  },
  {
   "cell_type": "markdown",
   "metadata": {},
   "source": [
    "    [db2inst1@server7 ~]$ oc get pods\n",
    "    NAME                                 READY     STATUS      RESTARTS   AGE\n",
    "    db2u-db2u-0                          1/1       Running     13         16d\n",
    "    db2u-db2u-engn-update-job-82h8g      0/1       Completed   0          16d\n",
    "    db2u-db2u-ldap-59b74ddc8d-x6hcp      1/1       Running     13         16d\n",
    "    db2u-db2u-nodes-cfg-job-x7nzm        0/1       Completed   0          16d\n",
    "    db2u-db2u-restore-morph-job-hj8hv    0/1       Completed   0          16d  \n",
    "    db2u-db2u-sqllib-shared-job-dbxf4    0/1       Completed   0          16d\n",
    "    db2u-db2u-tools-599ff967b-6fqxn      1/1       Running     13         16d\n",
    "    db2u-etcd-0                          1/1       Running     13         16d\n",
    "    db2u-etcd-1                          1/1       Running     13         16d\n",
    "    db2u-etcd-2                          1/1       Running     13         16d\n",
    "    db2u2-db2u-0                         1/1       Running     8          9d\n",
    "    db2u2-db2u-engn-update-job-dbfdk     0/1       Completed   0          9d\n",
    "    db2u2-db2u-ldap-56b985d998-lm6qh     1/1       Running     8          9d\n",
    "    db2u2-db2u-nodes-cfg-job-t4nvm       0/1       Completed   0          9d\n",
    "    db2u2-db2u-restore-morph-job-wfq2x   0/1       Completed   0          9d\n",
    "    db2u2-db2u-sqllib-shared-job-x2m25   0/1       Completed   0          9d\n",
    "    db2u2-db2u-tools-7f85b6fb94-rdw6f    1/1       Running     8          9d\n",
    "    db2u2-etcd-0                         1/1       Running     8          9d\n",
    "    db2u2-etcd-1                         1/1       Running     8          9d\n",
    "    db2u2-etcd-2                         1/1       Running     8          9d"
   ]
  },
  {
   "cell_type": "code",
   "execution_count": 9,
   "metadata": {
    "hide_input": true,
    "scrolled": true,
    "tags": [
     "refresh"
    ]
   },
   "outputs": [
    {
     "data": {
      "text/html": [
       "<div style=\"margin-left: 35px; border-style: solid; border-width: 1px; padding: 10px;background-Color:black;\" >\n",
       "<p style=\" color:white ;font-family:courier;background-Color:black\"\n",
       "<pre id=5 onmousedown=\"window.clipline(5)\" onmouseup=\"window.reset(5)\">\n",
       "oc get svc db2u-db2u-engn-svc\n"
      ],
      "text/plain": [
       "<IPython.core.display.HTML object>"
      ]
     },
     "metadata": {},
     "output_type": "display_data"
    }
   ],
   "source": [
    "%%html\n",
    "<div style=\"margin-left: 35px; border-style: solid; border-width: 1px; padding: 10px;background-Color:black;\" >\n",
    "<p style=\" color:white ;font-family:courier;background-Color:black\"\n",
    "<pre id=5 onmousedown=\"window.clipline(5)\" onmouseup=\"window.reset(5)\">\n",
    "oc get svc db2u-db2u-engn-svc"
   ]
  },
  {
   "cell_type": "markdown",
   "metadata": {},
   "source": [
    "    [db2inst1@server7 ~]$ oc get svc db2u-db2u-engn-svc\n",
    "    NAME                 TYPE       CLUSTER-IP     EXTERNAL-IP   PORT(S)                           AGE\n",
    "    db2u-db2u-engn-svc   NodePort   172.30.70.21   <none>        50000:32019/TCP,50001:32149/TCP   16d\n"
   ]
  },
  {
   "cell_type": "markdown",
   "metadata": {
    "hide_input": false
   },
   "source": [
    "#### Log into the OpenShift Web Console"
   ]
  },
  {
   "cell_type": "markdown",
   "metadata": {},
   "source": [
    "1. Click https://host-1:8443/console/project/db2/overview\n",
    "3. Accept the security warning\n",
    "4. Log into the console using **admin** and password **ocadmin**\n",
    "<img src=\"./media/OpenShiftConsole.png\">  \n",
    "5. Click **Overview** and scan down the active applications. Two have been setup: db2u and db2u2\n",
    "6. Click **Applications** and then **Services**\n",
    "<img src=\"./media/OpenShiftConsoleServices.png\">\n",
    "7. Scroll down to **db2u-db2u-engn-svc**\n",
    "8. Click **db2u-db2u-engn-svc**\n",
    "9. Scroll down to the **Traffic** table. You can see that the Db2 50000 port is mapped to 32019 on the **host-1** OpenShift machine.\n",
    "<img src=\"./media/TrafficPorts.png\"> "
   ]
  },
  {
   "cell_type": "markdown",
   "metadata": {},
   "source": [
    "#### Log into the Db2 Data Management Console"
   ]
  },
  {
   "cell_type": "markdown",
   "metadata": {},
   "source": [
    "1. Click http://10.0.0.3:11080\n",
    "4. Log into the console using **admin** and password **passw0rd**\n",
    "<img src=\"./media/DMCDatabases.png\"> \n",
    "5. Hover your mouse pointer over **Db2_On_Native_Linux**. Notice that this database is at version 11.1.4.5.\n",
    "<img src=\"./media/FlyoverDb2Native.png\"> \n",
    "5. Hover your mouse pointer over **Db2_On_OpenShift**. Notice that this database is at version 11.5.4.0\n",
    "<img src=\"./media/FlyoverDb2OpenShift.png\"> \n",
    "5. Click **Db2_On_Native_Linux**\n",
    "6. Click the **Explore** icon in the main menu\n",
    "7. Click **Tables**\n",
    "<img src=\"./media/ExploreTables.png\"> \n",
    "8. Select the checkbox beside **DB2INST1**\n",
    "<img src=\"./media/DatabaseTables.png\"> \n",
    "9. Select **Db2_On_OpenShift** from the database dropdown in the upper right of the console screen. Notice that the SAMPLE tables under DB2INST1 are not in the empty Db2 Cartridge container."
   ]
  },
  {
   "cell_type": "markdown",
   "metadata": {},
   "source": [
    "#### Create the Click to Containerize Script to move the Db2_On_Native_Linux database to Openshift"
   ]
  },
  {
   "cell_type": "markdown",
   "metadata": {},
   "source": [
    "1. Make sure you using server7\n",
    "2. If you have not already done so, log in with the **db2inst1** userid and **db2inst1** password\n",
    "3. Double-Click the **c2cdb2** icon\n",
    "<img src=\"./media/C2CIcon.png\">\n",
    "4. Click **Agree** to accept the **Disclaimer and User Acceptance** terms\n",
    "5. Click **Continue**. You do not need to enter an opportunity code, and leave **Prototpe Mode** unchecked.\n",
    "6. Click the arrow icon in the **Containerize Db2** box\n",
    "7. For the **Source Database**: Select **On_Premises_Db2** in the profile name dropdown.\n",
    "8. Enter **db2inst1** as the password for the source database\n",
    "9. For the **Target OpenShift Container**: Select **OpenShift_Db2_01** in the profile name dropdown.  \n",
    "10. Enter **redhat** as the password for the target OpenShift Container\n",
    "11. Enter **admin** as the OpenShift OC Userid\n",
    "12. Enter **ocadmin** as the OC Password\n",
    "13. Select **Check Connections**\n",
    "14. Select **4** as the **Number of Threads**\n",
    "<img src=\"./media/CreateScript.png\">\n",
    "15. Click **Analyze** if you want to check out how the tool automatically analyzes the differences between the source database and the target Cartridge. You can override parameters if required.  Return to the **Generate Database Containerization Script** page when you are done exploring.\n",
    "15. Click **Create Script**\n",
    "<img src=\"./media/ScriptCreated.png\">\n",
    "16. Click **OK** to view the deployment information\n",
    "<img src=\"./media/RunningShift.png\">\n",
    "17. Click **OK**\n",
    "18. Click **Exit**"
   ]
  },
  {
   "cell_type": "markdown",
   "metadata": {},
   "source": [
    "#### Run the Click to Containerize Script"
   ]
  },
  {
   "cell_type": "markdown",
   "metadata": {},
   "source": [
    "1. Make sure you using server7\n",
    "2. If you have not already done so, log in with the **db2inst1** userid and **db2inst1** password\n",
    "3. Double-Click the **Terminal** icon\n",
    "4. From the db2inst1@server7 prompt enter"
   ]
  },
  {
   "cell_type": "code",
   "execution_count": 10,
   "metadata": {
    "hide_input": true,
    "tags": [
     "refresh"
    ]
   },
   "outputs": [
    {
     "data": {
      "text/html": [
       "<div style=\"margin-left: 35px; border-style: solid; border-width: 1px; padding: 10px;background-Color:black;\" >\n",
       "<p style=\" color:white ;font-family:courier;background-Color:black\"\n",
       "<pre id=10 onmousedown=\"window.clipline(10)\" onmouseup=\"window.reset(10)\">\n",
       "db2stop force\n"
      ],
      "text/plain": [
       "<IPython.core.display.HTML object>"
      ]
     },
     "metadata": {},
     "output_type": "display_data"
    }
   ],
   "source": [
    "%%html\n",
    "<div style=\"margin-left: 35px; border-style: solid; border-width: 1px; padding: 10px;background-Color:black;\" >\n",
    "<p style=\" color:white ;font-family:courier;background-Color:black\"\n",
    "<pre id=10 onmousedown=\"window.clipline(10)\" onmouseup=\"window.reset(10)\">\n",
    "db2stop force"
   ]
  },
  {
   "cell_type": "markdown",
   "metadata": {},
   "source": [
    "This will stop the current Db2 server. You should see the following before proceeding:"
   ]
  },
  {
   "cell_type": "markdown",
   "metadata": {},
   "source": [
    "    [db2inst1@server7 ~]$ db2stop force\n",
    "    11/06/2020 10:48:15     0   0   SQL1064N  DB2STOP processing was successful.\n",
    "    SQL1064N  DB2STOP processing was successful."
   ]
  },
  {
   "cell_type": "markdown",
   "metadata": {},
   "source": [
    "Now you can run the script generated by Db2 Click to Containerize. You need to switch to the directory containing the script and make sure you have permission to run it."
   ]
  },
  {
   "cell_type": "code",
   "execution_count": 11,
   "metadata": {
    "hide_input": true,
    "tags": [
     "refresh"
    ]
   },
   "outputs": [
    {
     "data": {
      "text/html": [
       "<div style=\"margin-left: 35px; border-style: solid; border-width: 1px; padding: 10px;background-Color:black;\" >\n",
       "<p style=\" color:white ;font-family:courier;background-Color:black\"\n",
       "<pre id=6 onmousedown=\"window.clipline(6)\" onmouseup=\"window.reset(6)\">\n",
       "cd c2cdb2/scripts\n"
      ],
      "text/plain": [
       "<IPython.core.display.HTML object>"
      ]
     },
     "metadata": {},
     "output_type": "display_data"
    }
   ],
   "source": [
    "%%html\n",
    "<div style=\"margin-left: 35px; border-style: solid; border-width: 1px; padding: 10px;background-Color:black;\" >\n",
    "<p style=\" color:white ;font-family:courier;background-Color:black\"\n",
    "<pre id=6 onmousedown=\"window.clipline(6)\" onmouseup=\"window.reset(6)\">\n",
    "cd c2cdb2/scripts"
   ]
  },
  {
   "cell_type": "code",
   "execution_count": 12,
   "metadata": {
    "hide_input": true,
    "tags": [
     "refresh"
    ]
   },
   "outputs": [
    {
     "data": {
      "text/html": [
       "<div style=\"margin-left: 35px; border-style: solid; border-width: 1px; padding: 10px;background-Color:black;\" >\n",
       "<p style=\" color:white ;font-family:courier;background-Color:black\"\n",
       "<pre id=7 onmousedown=\"window.clipline(7)\" onmouseup=\"window.reset(7)\">\n",
       "chmod 777 shift.sh\n"
      ],
      "text/plain": [
       "<IPython.core.display.HTML object>"
      ]
     },
     "metadata": {},
     "output_type": "display_data"
    }
   ],
   "source": [
    "%%html\n",
    "<div style=\"margin-left: 35px; border-style: solid; border-width: 1px; padding: 10px;background-Color:black;\" >\n",
    "<p style=\" color:white ;font-family:courier;background-Color:black\"\n",
    "<pre id=7 onmousedown=\"window.clipline(7)\" onmouseup=\"window.reset(7)\">\n",
    "chmod 777 shift.sh"
   ]
  },
  {
   "cell_type": "code",
   "execution_count": 13,
   "metadata": {
    "hide_input": true,
    "tags": [
     "refresh"
    ]
   },
   "outputs": [
    {
     "data": {
      "text/html": [
       "<div style=\"margin-left: 35px; border-style: solid; border-width: 1px; padding: 10px;background-Color:black;\" >\n",
       "<p style=\" color:white ;font-family:courier;background-Color:black\"\n",
       "<pre id=8 onmousedown=\"window.clipline(8)\" onmouseup=\"window.reset(8)\">\n",
       "./shift.sh\n"
      ],
      "text/plain": [
       "<IPython.core.display.HTML object>"
      ]
     },
     "metadata": {},
     "output_type": "display_data"
    }
   ],
   "source": [
    "%%html\n",
    "<div style=\"margin-left: 35px; border-style: solid; border-width: 1px; padding: 10px;background-Color:black;\" >\n",
    "<p style=\" color:white ;font-family:courier;background-Color:black\"\n",
    "<pre id=8 onmousedown=\"window.clipline(8)\" onmouseup=\"window.reset(8)\">\n",
    "./shift.sh"
   ]
  },
  {
   "cell_type": "markdown",
   "metadata": {},
   "source": [
    "Once the script is finished you can restart the source Db2 database server"
   ]
  },
  {
   "cell_type": "code",
   "execution_count": 14,
   "metadata": {
    "hide_input": true,
    "tags": [
     "refresh"
    ]
   },
   "outputs": [
    {
     "data": {
      "text/html": [
       "<div style=\"margin-left: 35px; border-style: solid; border-width: 1px; padding: 10px;background-Color:black;\" >\n",
       "<p style=\" color:white ;font-family:courier;background-Color:black\"\n",
       "<pre id=9 onmousedown=\"window.clipline(9)\" onmouseup=\"window.reset(9)\">\n",
       "db2start\n"
      ],
      "text/plain": [
       "<IPython.core.display.HTML object>"
      ]
     },
     "metadata": {},
     "output_type": "display_data"
    }
   ],
   "source": [
    "%%html\n",
    "<div style=\"margin-left: 35px; border-style: solid; border-width: 1px; padding: 10px;background-Color:black;\" >\n",
    "<p style=\" color:white ;font-family:courier;background-Color:black\"\n",
    "<pre id=9 onmousedown=\"window.clipline(9)\" onmouseup=\"window.reset(9)\">\n",
    "db2start"
   ]
  },
  {
   "cell_type": "markdown",
   "metadata": {
    "hide_input": true
   },
   "source": [
    "#### Check the Db2 Cartrige On Db2 OpenShift\n",
    "Now that you have moved the Db2 database from a Version 11.1 native install on Linux to Db2 running in a Version 11.5.0.4 Cartridge on RedHat OpenShift, you can check that all the tables in the source database appear in the replaced container."
   ]
  },
  {
   "cell_type": "markdown",
   "metadata": {},
   "source": [
    "1. Open the Db2 Data Management Console and return to the **Tables** screen\n",
    "<img src=\"./media/EmptyTables.png\">  \n",
    "2. Make sure that **Db2_On_OpenShift** is still selected in the database dropdown in the upper right of the console screen.\n",
    "<img src=\"./media/SelectDB.png\">\n",
    "3. Click the refresh icon. This rechecks the availble tables in the Db2 Cartridge running on OpenShift\n",
    "<img src=\"./media/Refresh.png\">\n",
    "4. Notice that the tables originally in the native Linux Db2 database are now in the Db2 Cartridge running on OpenShift. Remeber this isn't just moving tables, the whole database, including the settings have been moved and upgraded.\n",
    "5. Click **Databases** at the upper left of the console. From this page you can confirm that the original Db2 database on Linux is up and running, as well as the upgraded copy on OpenShift. \n",
    "6. Hover your mouse over the database names to confirm the Version and Release of each database. Notice that the Db2 Database is automatically upgrade to 11.5 during the process."
   ]
  },
  {
   "cell_type": "markdown",
   "metadata": {},
   "source": [
    "### Next Steps\n",
    "You can try experimenting with other aspects of Db2 Click to Containerize as well as the Version 3.1.3 Db2 Data Management Console. You can try creating a new database on Server 7 called SAMPLE2 and upgrading it using Db2 Click to Containerize to the second Db2 Cartridge on RedHat OpenShift. You can also try out the Hands-On Labs available on the RedHat OpenShift machine.\n",
    "\n",
    "#### Accessing the Db2 Console and the OpenShift console from the Linux desktop\n",
    "Icons are available on the Linux desktop with links to:\n",
    "* The **Db2 Data Management Console**\n",
    "<img src=\"./media/Db2DMCIcon.png\"> \n",
    "* The **OpenShift Console**\n",
    "<img src=\"./media/OpenShiftConsoleIcon.png\">\n",
    "\n",
    "#### Accessing Jupyter notebooks and the Db2 Console directly from your own browser\n",
    "Your lab welcome email includes direct links to the Db2 Data Management Console as well as to the Jupyter notebook environment. You can follow these links from your own desktop browser. However remember that any html links to resources referenced inside a lab (for example http:/10.0.0.2) will only work if you are running on a browser inside the virtual desktop environment."
   ]
  },
  {
   "cell_type": "markdown",
   "metadata": {},
   "source": [
    "### We hope you have enjoyed this lab, to view more labs in this collection click on the footer bar below!"
   ]
  },
  {
   "cell_type": "markdown",
   "metadata": {
    "hide_input": false
   },
   "source": [
    "[![](./media/db2_dte_footer.png)](https://www.ibm.com/demos/collection/db2-database/)\n",
    "<a id=\"top\">"
   ]
  },
  {
   "cell_type": "markdown",
   "metadata": {},
   "source": [
    "#### Credits: IBM 2020, Phil Downey [phil.downey1@ibm.com], George Baklarz [baklarz@ca.ibm.com]"
   ]
  }
 ],
 "metadata": {
  "kernelspec": {
   "display_name": "Python 3",
   "language": "python",
   "name": "python3"
  },
  "language_info": {
   "codemirror_mode": {
    "name": "ipython",
    "version": 3
   },
   "file_extension": ".py",
   "mimetype": "text/x-python",
   "name": "python",
   "nbconvert_exporter": "python",
   "pygments_lexer": "ipython3",
   "version": "3.8.3"
  }
 },
 "nbformat": 4,
 "nbformat_minor": 2
}
